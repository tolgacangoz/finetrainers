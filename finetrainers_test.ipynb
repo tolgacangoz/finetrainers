{
 "cells": [
  {
   "cell_type": "code",
   "execution_count": 1,
   "metadata": {},
   "outputs": [
    {
     "name": "stderr",
     "output_type": "stream",
     "text": [
      "WARNING:bitsandbytes.cextension:The installed version of bitsandbytes was compiled without GPU support. 8-bit optimizers and GPU quantization are unavailable.\n"
     ]
    }
   ],
   "source": [
    "import torch\n",
    "from finetrainers.data.dataset import IterableDatasetPreprocessingWrapper\n",
    "\n",
    "class DummyIterableDataset(torch.utils.data.IterableDataset):\n",
    "    def __init__(self, num_samples=100):\n",
    "        super().__init__()\n",
    "        self.num_samples = num_samples\n",
    "\n",
    "    def __iter__(self):\n",
    "        for i in range(self.num_samples):\n",
    "            yield {\"caption\": f\"caption_{i}\", \"image\": i}"
   ]
  },
  {
   "cell_type": "code",
   "execution_count": 2,
   "metadata": {},
   "outputs": [],
   "source": [
    "num_samples = 101  # Not perfectly divisible by batch_size to test drop_last\n",
    "batch_size = 4\n",
    "drop_last = True\n",
    "num_workers = 3\n",
    "\n",
    "original_dataset = DummyIterableDataset(num_samples)"
   ]
  },
  {
   "cell_type": "code",
   "execution_count": 3,
   "metadata": {},
   "outputs": [
    {
     "name": "stderr",
     "output_type": "stream",
     "text": [
      "2025-06-11 14:18:01 - [INFO] - Initializing IterableDatasetPreprocessingWrapper for the dataset with the following configuration:\n",
      "  - Dataset Type: image\n",
      "  - ID Token: None\n",
      "  - Image Resolution Buckets: None\n",
      "  - Video Resolution Buckets: None\n",
      "  - Rename Columns: None\n",
      "  - Reshape Mode: bicubic\n",
      "  - Remove Common LLM Caption Prefixes: False\n",
      "\n"
     ]
    }
   ],
   "source": [
    "wrapped_dataset = IterableDatasetPreprocessingWrapper(\n",
    "    dataset=original_dataset,\n",
    "    dataset_type=\"image\",\n",
    ")\n",
    "\n",
    "dataloader = torch.utils.data.DataLoader(\n",
    "    wrapped_dataset,\n",
    "    batch_size=batch_size,\n",
    "    num_workers=num_workers,\n",
    "    drop_last=drop_last,\n",
    ")"
   ]
  },
  {
   "cell_type": "code",
   "execution_count": 4,
   "metadata": {},
   "outputs": [
    {
     "name": "stderr",
     "output_type": "stream",
     "text": [
      "2025-06-11 10:49:55 - [INFO] - Starting IterableDatasetPreprocessingWrapper for the dataset\n",
      "2025-06-11 10:49:55 - [INFO] - Starting IterableDatasetPreprocessingWrapper for the dataset\n",
      "2025-06-11 10:49:55 - [INFO] - Starting IterableDatasetPreprocessingWrapper for the dataset\n"
     ]
    },
    {
     "name": "stdout",
     "output_type": "stream",
     "text": [
      "[0, 1, 2, 3]\n",
      "[0, 1, 2, 3]\n",
      "[0, 1, 2, 3]\n",
      "[4, 5, 6, 7]\n",
      "[4, 5, 6, 7]\n",
      "[4, 5, 6, 7]\n",
      "[8, 9, 10, 11]\n",
      "[8, 9, 10, 11]\n",
      "[8, 9, 10, 11]\n",
      "[12, 13, 14, 15]\n",
      "[12, 13, 14, 15]\n",
      "[12, 13, 14, 15]\n",
      "[16, 17, 18, 19]\n",
      "[16, 17, 18, 19]\n",
      "[16, 17, 18, 19]\n",
      "[20, 21, 22, 23]\n",
      "[20, 21, 22, 23]\n",
      "[20, 21, 22, 23]\n",
      "[24, 25, 26, 27]\n",
      "[24, 25, 26, 27]\n",
      "[24, 25, 26, 27]\n",
      "[28, 29, 30, 31]\n",
      "[28, 29, 30, 31]\n",
      "[28, 29, 30, 31]\n",
      "[32, 33, 34, 35]\n",
      "[32, 33, 34, 35]\n",
      "[32, 33, 34, 35]\n",
      "[36, 37, 38, 39]\n",
      "[36, 37, 38, 39]\n",
      "[36, 37, 38, 39]\n",
      "[40, 41, 42, 43]\n",
      "[40, 41, 42, 43]\n",
      "[40, 41, 42, 43]\n",
      "[44, 45, 46, 47]\n",
      "[44, 45, 46, 47]\n",
      "[44, 45, 46, 47]\n",
      "[48, 49, 50, 51]\n",
      "[48, 49, 50, 51]\n",
      "[48, 49, 50, 51]\n",
      "[52, 53, 54, 55]\n",
      "[52, 53, 54, 55]\n",
      "[52, 53, 54, 55]\n",
      "[56, 57, 58, 59]\n",
      "[56, 57, 58, 59]\n",
      "[56, 57, 58, 59]\n",
      "[60, 61, 62, 63]\n",
      "[60, 61, 62, 63]\n",
      "[60, 61, 62, 63]\n",
      "[64, 65, 66, 67]\n",
      "[64, 65, 66, 67]\n",
      "[64, 65, 66, 67]\n",
      "[68, 69, 70, 71]\n",
      "[68, 69, 70, 71]\n",
      "[68, 69, 70, 71]\n",
      "[72, 73, 74, 75]\n",
      "[72, 73, 74, 75]\n",
      "[72, 73, 74, 75]\n",
      "[76, 77, 78, 79]\n",
      "[76, 77, 78, 79]\n",
      "[76, 77, 78, 79]\n",
      "[80, 81, 82, 83]\n",
      "[80, 81, 82, 83]\n",
      "[80, 81, 82, 83]\n",
      "[84, 85, 86, 87]\n",
      "[84, 85, 86, 87]\n",
      "[84, 85, 86, 87]\n",
      "[88, 89, 90, 91]\n",
      "[88, 89, 90, 91]\n",
      "[88, 89, 90, 91]\n",
      "[92, 93, 94, 95]\n",
      "[92, 93, 94, 95]\n",
      "[92, 93, 94, 95]\n",
      "[96, 97, 98, 99]\n",
      "[96, 97, 98, 99]\n",
      "[96, 97, 98, 99]\n"
     ]
    }
   ],
   "source": [
    "for batch in dataloader:\n",
    "    print(batch['image'].tolist())"
   ]
  },
  {
   "cell_type": "code",
   "execution_count": 4,
   "metadata": {},
   "outputs": [
    {
     "name": "stderr",
     "output_type": "stream",
     "text": [
      "2025-06-11 14:18:14 - [INFO] - Starting IterableDatasetPreprocessingWrapper for the dataset\n",
      "2025-06-11 14:18:14 - [INFO] - Starting IterableDatasetPreprocessingWrapper for the dataset\n",
      "2025-06-11 14:18:14 - [INFO] - Starting IterableDatasetPreprocessingWrapper for the dataset\n"
     ]
    },
    {
     "name": "stdout",
     "output_type": "stream",
     "text": [
      "[0, 3, 6, 9]\n",
      "[1, 4, 7, 10]\n",
      "[2, 5, 8, 11]\n",
      "[12, 15, 18, 21]\n",
      "[13, 16, 19, 22]\n",
      "[14, 17, 20, 23]\n",
      "[24, 27, 30, 33]\n",
      "[25, 28, 31, 34]\n",
      "[26, 29, 32, 35]\n",
      "[36, 39, 42, 45]\n",
      "[37, 40, 43, 46]\n",
      "[38, 41, 44, 47]\n",
      "[48, 51, 54, 57]\n",
      "[49, 52, 55, 58]\n",
      "[50, 53, 56, 59]\n",
      "[60, 63, 66, 69]\n",
      "[61, 64, 67, 70]\n",
      "[62, 65, 68, 71]\n",
      "[72, 75, 78, 81]\n",
      "[73, 76, 79, 82]\n",
      "[74, 77, 80, 83]\n",
      "[84, 87, 90, 93]\n",
      "[85, 88, 91, 94]\n",
      "[86, 89, 92, 95]\n"
     ]
    }
   ],
   "source": [
    "for batch in dataloader:\n",
    "    print(batch['image'].tolist())"
   ]
  },
  {
   "cell_type": "code",
   "execution_count": null,
   "metadata": {},
   "outputs": [],
   "source": []
  }
 ],
 "metadata": {
  "kernelspec": {
   "display_name": "th",
   "language": "python",
   "name": "python3"
  },
  "language_info": {
   "codemirror_mode": {
    "name": "ipython",
    "version": 3
   },
   "file_extension": ".py",
   "mimetype": "text/x-python",
   "name": "python",
   "nbconvert_exporter": "python",
   "pygments_lexer": "ipython3",
   "version": "3.11.13"
  }
 },
 "nbformat": 4,
 "nbformat_minor": 2
}
